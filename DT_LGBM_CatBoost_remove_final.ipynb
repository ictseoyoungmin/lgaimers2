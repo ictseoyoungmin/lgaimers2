{
 "cells": [
  {
   "cell_type": "code",
   "execution_count": 1,
   "metadata": {},
   "outputs": [],
   "source": [
    "import gc\n",
    "import random\n",
    "import os\n",
    "import pandas as pd\n",
    "import numpy as np\n",
    "import matplotlib.pyplot as plt\n",
    "import itertools\n",
    "\n",
    "from sklearn.model_selection import train_test_split\n",
    "from sklearn.model_selection import cross_val_score\n",
    "from sklearn.linear_model import LogisticRegression\n",
    "from sklearn.model_selection import GridSearchCV\n",
    "\n",
    "from sklearn.preprocessing import LabelEncoder\n",
    "from sklearn.neighbors import KNeighborsClassifier #분류\n",
    "from sklearn.ensemble import RandomForestClassifier\n",
    "from sklearn.naive_bayes import GaussianNB\n",
    "from sklearn.tree import DecisionTreeClassifier\n",
    "from sklearn.ensemble import ExtraTreesClassifier\n",
    "\n",
    "from mlxtend.classifier import StackingCVClassifier\n",
    "from catboost import CatBoostClassifier\n",
    "from lightgbm import LGBMClassifier"
   ]
  },
  {
   "cell_type": "code",
   "execution_count": 1,
   "metadata": {},
   "outputs": [
    {
     "name": "stdout",
     "output_type": "stream",
     "text": [
      "Collecting seaborn\n",
      "  Downloading seaborn-0.11.2-py3-none-any.whl (292 kB)\n",
      "     |████████████████████████████████| 292 kB 29.3 MB/s            \n",
      "\u001b[?25hRequirement already satisfied: scipy>=1.0 in /usr/local/lib/python3.6/dist-packages (from seaborn) (1.4.1)\n",
      "Requirement already satisfied: numpy>=1.15 in /usr/local/lib/python3.6/dist-packages (from seaborn) (1.19.5)\n",
      "Requirement already satisfied: pandas>=0.23 in /usr/local/lib/python3.6/dist-packages (from seaborn) (1.1.5)\n",
      "Requirement already satisfied: matplotlib>=2.2 in /usr/local/lib/python3.6/dist-packages (from seaborn) (3.3.4)\n",
      "Requirement already satisfied: pyparsing!=2.0.4,!=2.1.2,!=2.1.6,>=2.0.3 in /usr/local/lib/python3.6/dist-packages (from matplotlib>=2.2->seaborn) (2.4.7)\n",
      "Requirement already satisfied: pillow>=6.2.0 in /usr/local/lib/python3.6/dist-packages (from matplotlib>=2.2->seaborn) (8.4.0)\n",
      "Requirement already satisfied: kiwisolver>=1.0.1 in /usr/local/lib/python3.6/dist-packages (from matplotlib>=2.2->seaborn) (1.3.1)\n",
      "Requirement already satisfied: python-dateutil>=2.1 in /usr/local/lib/python3.6/dist-packages (from matplotlib>=2.2->seaborn) (2.8.1)\n",
      "Requirement already satisfied: cycler>=0.10 in /usr/local/lib/python3.6/dist-packages (from matplotlib>=2.2->seaborn) (0.11.0)\n",
      "Requirement already satisfied: pytz>=2017.2 in /usr/local/lib/python3.6/dist-packages (from pandas>=0.23->seaborn) (2021.3)\n",
      "Requirement already satisfied: six>=1.5 in /usr/local/lib/python3.6/dist-packages (from python-dateutil>=2.1->matplotlib>=2.2->seaborn) (1.15.0)\n",
      "Installing collected packages: seaborn\n",
      "Successfully installed seaborn-0.11.2\n",
      "\u001b[33mWARNING: Running pip as the 'root' user can result in broken permissions and conflicting behaviour with the system package manager. It is recommended to use a virtual environment instead: https://pip.pypa.io/warnings/venv\u001b[0m\n",
      "Note: you may need to restart the kernel to use updated packages.\n"
     ]
    }
   ],
   "source": [
    "# pip install seaborn"
   ]
  },
  {
   "cell_type": "code",
   "execution_count": 2,
   "metadata": {},
   "outputs": [
    {
     "name": "stdout",
     "output_type": "stream",
     "text": [
      "Collecting xgboost\n",
      "  Downloading xgboost-1.5.2-py3-none-manylinux2014_x86_64.whl (173.6 MB)\n",
      "     |████████████████████████████████| 173.6 MB 16 kB/s               \n",
      "\u001b[?25hRequirement already satisfied: numpy in /usr/local/lib/python3.6/dist-packages (from xgboost) (1.19.5)\n",
      "Requirement already satisfied: scipy in /usr/local/lib/python3.6/dist-packages (from xgboost) (1.4.1)\n",
      "Installing collected packages: xgboost\n",
      "Successfully installed xgboost-1.5.2\n",
      "\u001b[33mWARNING: Running pip as the 'root' user can result in broken permissions and conflicting behaviour with the system package manager. It is recommended to use a virtual environment instead: https://pip.pypa.io/warnings/venv\u001b[0m\n",
      "Note: you may need to restart the kernel to use updated packages.\n"
     ]
    }
   ],
   "source": [
    "# pip install xgboost"
   ]
  },
  {
   "cell_type": "code",
   "execution_count": 3,
   "metadata": {},
   "outputs": [
    {
     "name": "stdout",
     "output_type": "stream",
     "text": [
      "Collecting lightgbm\n",
      "  Downloading lightgbm-3.3.5-py3-none-manylinux1_x86_64.whl (2.0 MB)\n",
      "     |████████████████████████████████| 2.0 MB 28.3 MB/s            \n",
      "\u001b[?25hRequirement already satisfied: wheel in /usr/local/lib/python3.6/dist-packages (from lightgbm) (0.34.2)\n",
      "Requirement already satisfied: numpy in /usr/local/lib/python3.6/dist-packages (from lightgbm) (1.19.5)\n",
      "Requirement already satisfied: scikit-learn!=0.22.0 in /usr/local/lib/python3.6/dist-packages (from lightgbm) (0.24.2)\n",
      "Requirement already satisfied: scipy in /usr/local/lib/python3.6/dist-packages (from lightgbm) (1.4.1)\n",
      "Requirement already satisfied: joblib>=0.11 in /usr/local/lib/python3.6/dist-packages (from scikit-learn!=0.22.0->lightgbm) (1.1.0)\n",
      "Requirement already satisfied: threadpoolctl>=2.0.0 in /usr/local/lib/python3.6/dist-packages (from scikit-learn!=0.22.0->lightgbm) (3.0.0)\n",
      "Installing collected packages: lightgbm\n",
      "Successfully installed lightgbm-3.3.5\n",
      "\u001b[33mWARNING: Running pip as the 'root' user can result in broken permissions and conflicting behaviour with the system package manager. It is recommended to use a virtual environment instead: https://pip.pypa.io/warnings/venv\u001b[0m\n",
      "Note: you may need to restart the kernel to use updated packages.\n"
     ]
    }
   ],
   "source": [
    "# pip install lightgbm"
   ]
  },
  {
   "cell_type": "code",
   "execution_count": 4,
   "metadata": {},
   "outputs": [
    {
     "name": "stdout",
     "output_type": "stream",
     "text": [
      "Collecting catboost\n",
      "  Downloading catboost-1.1.1-cp36-none-manylinux1_x86_64.whl (76.6 MB)\n",
      "     |████████████████████████████████| 76.6 MB 44 kB/s              \n",
      "\u001b[?25hCollecting plotly\n",
      "  Downloading plotly-5.13.1-py2.py3-none-any.whl (15.2 MB)\n",
      "     |████████████████████████████████| 15.2 MB 69.3 MB/s            \n",
      "\u001b[?25hRequirement already satisfied: numpy>=1.16.0 in /usr/local/lib/python3.6/dist-packages (from catboost) (1.19.5)\n",
      "Requirement already satisfied: scipy in /usr/local/lib/python3.6/dist-packages (from catboost) (1.4.1)\n",
      "Collecting graphviz\n",
      "  Downloading graphviz-0.19.1-py3-none-any.whl (46 kB)\n",
      "     |████████████████████████████████| 46 kB 6.0 MB/s             \n",
      "\u001b[?25hRequirement already satisfied: pandas>=0.24.0 in /usr/local/lib/python3.6/dist-packages (from catboost) (1.1.5)\n",
      "Requirement already satisfied: six in /usr/local/lib/python3.6/dist-packages (from catboost) (1.15.0)\n",
      "Requirement already satisfied: matplotlib in /usr/local/lib/python3.6/dist-packages (from catboost) (3.3.4)\n",
      "Requirement already satisfied: python-dateutil>=2.7.3 in /usr/local/lib/python3.6/dist-packages (from pandas>=0.24.0->catboost) (2.8.1)\n",
      "Requirement already satisfied: pytz>=2017.2 in /usr/local/lib/python3.6/dist-packages (from pandas>=0.24.0->catboost) (2021.3)\n",
      "Requirement already satisfied: kiwisolver>=1.0.1 in /usr/local/lib/python3.6/dist-packages (from matplotlib->catboost) (1.3.1)\n",
      "Requirement already satisfied: pillow>=6.2.0 in /usr/local/lib/python3.6/dist-packages (from matplotlib->catboost) (8.4.0)\n",
      "Requirement already satisfied: pyparsing!=2.0.4,!=2.1.2,!=2.1.6,>=2.0.3 in /usr/local/lib/python3.6/dist-packages (from matplotlib->catboost) (2.4.7)\n",
      "Requirement already satisfied: cycler>=0.10 in /usr/local/lib/python3.6/dist-packages (from matplotlib->catboost) (0.11.0)\n",
      "Collecting tenacity>=6.2.0\n",
      "  Downloading tenacity-8.2.2-py3-none-any.whl (24 kB)\n",
      "Installing collected packages: tenacity, plotly, graphviz, catboost\n",
      "Successfully installed catboost-1.1.1 graphviz-0.19.1 plotly-5.13.1 tenacity-8.2.2\n",
      "\u001b[33mWARNING: Running pip as the 'root' user can result in broken permissions and conflicting behaviour with the system package manager. It is recommended to use a virtual environment instead: https://pip.pypa.io/warnings/venv\u001b[0m\n",
      "Note: you may need to restart the kernel to use updated packages.\n"
     ]
    }
   ],
   "source": [
    "# pip install catboost"
   ]
  },
  {
   "cell_type": "code",
   "execution_count": 2,
   "metadata": {},
   "outputs": [],
   "source": [
    "SEED = 37\n",
    "PROBAS = True\n",
    "FOLDS = 5\n",
    "N_ESTIMATORS = 1000\n",
    "TARGET = 'Y_Class'\n",
    "\n",
    "def seed_everything(seed):\n",
    "    random.seed(seed)\n",
    "    os.environ['PYTHONHASHSEED'] = str(seed)\n",
    "    np.random.seed(seed)\n",
    "seed_everything(SEED) # Seed 고정"
   ]
  },
  {
   "cell_type": "code",
   "execution_count": 3,
   "metadata": {},
   "outputs": [],
   "source": [
    "train_df = pd.read_csv('./train.csv')\n",
    "test_df = pd.read_csv('./test.csv')"
   ]
  },
  {
   "cell_type": "code",
   "execution_count": 4,
   "metadata": {},
   "outputs": [],
   "source": [
    "train_x = train_df.drop(columns=['PRODUCT_ID', 'TIMESTAMP', 'Y_Class', 'Y_Quality'])\n",
    "train_y = train_df['Y_Class']\n",
    "\n",
    "test_x = test_df.drop(columns=['PRODUCT_ID', 'TIMESTAMP'])"
   ]
  },
  {
   "cell_type": "code",
   "execution_count": 5,
   "metadata": {},
   "outputs": [],
   "source": [
    "test_x = test_df.drop(columns=['PRODUCT_ID', 'TIMESTAMP'])"
   ]
  },
  {
   "cell_type": "code",
   "execution_count": 6,
   "metadata": {},
   "outputs": [],
   "source": [
    "train_x = train_x.fillna(0)\n",
    "test_x = test_x.fillna(0)"
   ]
  },
  {
   "cell_type": "markdown",
   "metadata": {},
   "source": [
    "# 이후 LINE과 product_code를 label encoding 해줍니다"
   ]
  },
  {
   "cell_type": "code",
   "execution_count": 7,
   "metadata": {},
   "outputs": [
    {
     "name": "stdout",
     "output_type": "stream",
     "text": [
      "Done.\n"
     ]
    }
   ],
   "source": [
    "# qualitative to quantitative\n",
    "qual_col = ['LINE', 'PRODUCT_CODE']\n",
    "\n",
    "for i in qual_col:\n",
    "    le = LabelEncoder()\n",
    "    le = le.fit(train_x[i])\n",
    "    train_x[i] = le.transform(train_x[i])\n",
    "    \n",
    "    for label in np.unique(test_x[i]): \n",
    "        if label not in le.classes_: \n",
    "            le.classes_ = np.append(le.classes_, label)\n",
    "    test_x[i] = le.transform(test_x[i]) \n",
    "print('Done.')"
   ]
  },
  {
   "cell_type": "markdown",
   "metadata": {},
   "source": [
    "# 학습을 하기위해  train값 test값으로 나누어줍니다 \n",
    "# test_size는 0.15로 해야 결과값이 좋았다고 얘기해주면 좋을것같습니다"
   ]
  },
  {
   "cell_type": "code",
   "execution_count": 8,
   "metadata": {},
   "outputs": [
    {
     "name": "stdout",
     "output_type": "stream",
     "text": [
      "X_train:(508, 2877) y_train: (508,)\n",
      "X_test:(90, 2877) y_test: (90,)\n"
     ]
    }
   ],
   "source": [
    "X_train, X_test, y_train, y_test = train_test_split(train_x, train_y, test_size = 0.15, random_state = 37)\n",
    "print (f'X_train:{X_train.shape} y_train: {y_train.shape}')\n",
    "print (f'X_test:{X_test.shape} y_test: {y_test.shape}')"
   ]
  },
  {
   "cell_type": "markdown",
   "metadata": {},
   "source": [
    "# 보시면 밑에 lgb_params, rf_params를 맞춰주기도 했는데\n",
    "# 기본값을 사용하는게 더 잘나와서 cl2,cl3,cl4를 보시면 사용하지 않을것을 볼수있습니다\n",
    "# catboost같은경우도 params를 지정해주지않은 결과값이 좋았기때문에 기본으로 사용하였음 "
   ]
  },
  {
   "cell_type": "code",
   "execution_count": 9,
   "metadata": {},
   "outputs": [],
   "source": [
    "lgb_params = {\n",
    "    'metric': 'cross_entropy',\n",
    "    'n_estimators': 10000,\n",
    "    'objective': 'softmax',\n",
    "    'learning_rate': 0.02,\n",
    "    'min_child_samples': 150,\n",
    "    'reg_alpha': 3e-5,\n",
    "    'reg_lambda': 9e-2,\n",
    "    'num_leaves': 20,\n",
    "    'max_depth': 16,\n",
    "    'colsample_bytree': 0.8,\n",
    "    'subsample': 0.8,\n",
    "    'subsample_freq': 2,\n",
    "    'max_bin': 240,\n",
    "    'device': 'gpu'\n",
    "}\n",
    "\n",
    "rf_params = {\n",
    "    'max_depth': 7,\n",
    "    'min_samples_leaf': 10,\n",
    "    'random_state': 37\n",
    "}"
   ]
  },
  {
   "cell_type": "code",
   "execution_count": 34,
   "metadata": {},
   "outputs": [],
   "source": [
    "cl1 = KNeighborsClassifier(n_neighbors = 9)\n",
    "cl2 = RandomForestClassifier(**rf_params)\n",
    "cl3 = GaussianNB()\n",
    "cl4 = DecisionTreeClassifier()\n",
    "cl5 = CatBoostClassifier(task_type = 'GPU', verbose = None,logging_level = 'Silent')#task_type = 'GPU',verbose = None, \n",
    "cl6 = LGBMClassifier() \n",
    "cl7 = ExtraTreesClassifier(bootstrap=False, criterion='entropy', max_features=0.55, min_samples_leaf=8, min_samples_split=4, n_estimators=100) # Optimized using TPOT\n",
    "# cl8 = XGBClassifier(eval_metric='mlogloss', objective ='multi:softmax',use_label_encoder=False)"
   ]
  },
  {
   "cell_type": "code",
   "execution_count": 35,
   "metadata": {},
   "outputs": [],
   "source": [
    "classifiers = {\n",
    "    \"RandomForest\": cl2,\n",
    "    \"DecisionTree\": cl4,\n",
    "    \"CatBoost\": cl5,\n",
    "    \"LGBM\": cl6,\n",
    "    \"ExtraTrees\": cl7,\n",
    "    # \"XGboost\":cl8\n",
    "}"
   ]
  },
  {
   "cell_type": "code",
   "execution_count": 36,
   "metadata": {},
   "outputs": [],
   "source": [
    "mlr = LogisticRegression()"
   ]
  },
  {
   "cell_type": "code",
   "execution_count": 37,
   "metadata": {},
   "outputs": [],
   "source": [
    "models_scores_results, models_names = list(), list() "
   ]
  },
  {
   "cell_type": "markdown",
   "metadata": {},
   "source": [
    "# 그냥 기본 적으로 여러가지 방법으로 사용했을때의 결과값"
   ]
  },
  {
   "cell_type": "code",
   "execution_count": 38,
   "metadata": {},
   "outputs": [
    {
     "name": "stdout",
     "output_type": "stream",
     "text": [
      ">>>> Training started <<<<\n",
      "[RandomForest] - accuracy: 0.72050 \n",
      "[DecisionTree] - accuracy: 0.66123 \n",
      "[CatBoost] - accuracy: 0.77754 \n",
      "[LGBM] - accuracy: 0.77566 \n",
      "[ExtraTrees] - accuracy: 0.75585 \n"
     ]
    }
   ],
   "source": [
    "\n",
    "print(\">>>> Training started <<<<\")\n",
    "for key in classifiers:\n",
    "    classifier = classifiers[key]\n",
    "    scores = cross_val_score(classifier, X_train, y_train, cv = FOLDS, scoring='accuracy')\n",
    "    models_scores_results.append(scores)\n",
    "    models_names.append(key)\n",
    "    print(\"[%s] - accuracy: %0.5f \" % (key, scores.mean()))\n",
    "    classifier.fit(X_train, y_train)\n",
    "    \n",
    "    # Save classifier for prediction \n",
    "    classifiers[key] = classifier"
   ]
  },
  {
   "cell_type": "code",
   "execution_count": 39,
   "id": "959eeb73",
   "metadata": {},
   "outputs": [],
   "source": [
    "# >>>> Training started <<<<\n",
    "# [RandomForest] - accuracy: 0.72444 \n",
    "# [DecisionTree] - accuracy: 0.65343 \n",
    "# [CatBoost] - accuracy: 0.76968 \n",
    "# [LGBM] - accuracy: 0.76973 \n",
    "# [ExtraTrees] - accuracy: 0.74599 \n",
    "# [XGboost] - accuracy: 0.75201 "
   ]
  },
  {
   "cell_type": "code",
   "execution_count": 40,
   "metadata": {},
   "outputs": [
    {
     "data": {
      "image/png": "[encoded data removed]",
      "text/plain": [
       "<Figure size 640x480 with 1 Axes>"
      ]
     },
     "metadata": {},
     "output_type": "display_data"
    }
   ],
   "source": [
    "plt.boxplot(models_scores_results, labels=models_names, showmeans=True)\n",
    "plt.show()"
   ]
  },
  {
   "cell_type": "markdown",
   "metadata": {},
   "source": [
    "# 밑의 식 같은 경우는 5가지의 조합을 해봤을때의 결과값을 출력해보는 코드인데 \n",
    "# 하루 종일 돌려도 결과값이 다 안나와서 돌리다가 포기했습니다\n",
    "# 결과값: (제가 사진 올려드릴게요)  시간나면 돌려보겠습니다 \n",
    "# Total number of model combination: 26\n",
    "  1 - Stacked combination - Acc ('RandomForest', 'DecisionTree'): 0.73233\n",
    "  2 - Stacked combination - Acc ('RandomForest', 'CatBoost'): 0.74351\n",
    "  3 - Stacked combination - Acc ('RandomForest', 'LGBM'): 0.72863\n",
    "  4 - Stacked combination - Acc ('RandomForest', 'ExtraTrees'): 0.73607\n",
    "  5 - Stacked combination - Acc ('DecisionTree', 'CatBoost'): 0.73420\n",
    "  6 - Stacked combination - Acc ('DecisionTree', 'LGBM'): 0.73981\n",
    "  7 - Stacked combination - Acc ('DecisionTree', 'ExtraTrees'): 0.73046\n",
    "  8 - Stacked combination - Acc ('CatBoost', 'LGBM'): 0.73233\n",
    "  9 - Stacked combination - Acc ('CatBoost', 'ExtraTrees'): 0.73046\n",
    "  10 - Stacked combination - Acc ('LGBM', 'ExtraTrees'): 0.73794\n",
    "  11 - Stacked combination - Acc ('RandomForest', 'DecisionTree', 'CatBoost'): 0.78626\n",
    "  12 - Stacked combination - Acc ('RandomForest', 'DecisionTree', 'LGBM'): 0.78998\n",
    "  13 - Stacked combination - Acc ('RandomForest', 'DecisionTree', 'ExtraTrees'): 0.78811\n",
    "  14 - Stacked combination - Acc ('RandomForest', 'CatBoost', 'LGBM'): 0.78813\n",
    "  15 - Stacked combination - Acc ('RandomForest', 'CatBoost', 'ExtraTrees'): 0.78439\n",
    "  16 - Stacked combination - Acc ('RandomForest', 'LGBM', 'ExtraTrees'): 0.79185\n",
    "  17 - Stacked combination - Acc ('DecisionTree', 'CatBoost', 'LGBM'): 0.79000"
   ]
  },
  {
   "cell_type": "code",
   "execution_count": 42,
   "metadata": {},
   "outputs": [],
   "source": [
    "taken_classifiers = [\"RandomForest\", \"DecisionTree\", \"CatBoost\", \"LGBM\", \"ExtraTrees\"]"
   ]
  },
  {
   "cell_type": "code",
   "execution_count": 43,
   "metadata": {},
   "outputs": [],
   "source": [
    "def best_stacking_search():\n",
    "    cls_list = []\n",
    "    best_auc = -1\n",
    "    i=0\n",
    "\n",
    "    best_cls_experiment = list()\n",
    "\n",
    "    print(\">>>> Training started <<<<\")\n",
    "\n",
    "    for cls_comb in range(2, len(taken_classifiers)+1):\n",
    "        for subset in itertools.combinations(taken_classifiers, cls_comb):\n",
    "            cls_list.append(subset)\n",
    "\n",
    "    print(f\"Total number of model combination: {len(cls_list)}\")\n",
    "\n",
    "    for cls_exp in cls_list:\n",
    "        cls_labels = list(cls_exp)\n",
    "\n",
    "        classifier_exp = []\n",
    "        for ii in range(len(cls_labels)):\n",
    "            label = taken_classifiers[ii]\n",
    "            classifier = classifiers[label]\n",
    "            classifier_exp.append(classifier)\n",
    "\n",
    "        sclf = StackingCVClassifier(classifiers = classifier_exp,\n",
    "                                    shuffle = False,\n",
    "                                    use_probas = True,\n",
    "                                    cv = FOLDS,\n",
    "                                    meta_classifier = mlr,\n",
    "                                    n_jobs = -1)\n",
    "\n",
    "        scores = cross_val_score(sclf, X_train, y_train, cv = FOLDS, scoring='accuracy')\n",
    "\n",
    "        if scores.mean() > best_auc:\n",
    "            best_cls_experiment = list(cls_exp)\n",
    "        i += 1\n",
    "        print(f\"  {i} - Stacked combination - Acc {cls_exp}: {scores.mean():.5f}\")\n",
    "        \n",
    "    return best_cls_experiment"
   ]
  },
  {
   "cell_type": "code",
   "execution_count": 44,
   "metadata": {},
   "outputs": [],
   "source": [
    "# pip install mlxtend"
   ]
  },
  {
   "cell_type": "code",
   "execution_count": 45,
   "metadata": {},
   "outputs": [],
   "source": [
    "# !pip install eli5"
   ]
  },
  {
   "cell_type": "code",
   "execution_count": 46,
   "metadata": {},
   "outputs": [],
   "source": [
    "import eli5\n",
    "from eli5.sklearn import PermutationImportance"
   ]
  },
  {
   "cell_type": "markdown",
   "metadata": {},
   "source": [
    "# 밑의 permutationImportances는 각 모델이 중요하게 살펴보는 지표를 알려주는데 +에서 부터 -까지 나타나있습니다 \n",
    "# -같은경우는 결과값에 방해를 주기 때문에, 제외하고 너무 많은 column들을 지우게 되다보면 결과값에 영향을 미치게 되어서 0으로 나오는 column들도 포함할수 있도록 기준은 -0.001로 잡았습니다"
   ]
  },
  {
   "cell_type": "code",
   "execution_count": 48,
   "id": "a7f4cc48",
   "metadata": {},
   "outputs": [],
   "source": [
    "model=CatBoostClassifier(silent=True, random_state=37).fit(X_train, y_train)"
   ]
  },
  {
   "cell_type": "code",
   "execution_count": 49,
   "metadata": {},
   "outputs": [],
   "source": [
    "perm = PermutationImportance(model, random_state=37).fit(X_test, y_test)\n"
   ]
  },
  {
   "cell_type": "code",
   "execution_count": 50,
   "metadata": {},
   "outputs": [],
   "source": [
    "minimum_importance = -0.001\n",
    "mask = perm.feature_importances_ > minimum_importance\n",
    "features = X_train.columns[mask]\n",
    "X_train = X_train[features]\n",
    "X_test = X_test[features]"
   ]
  },
  {
   "cell_type": "markdown",
   "metadata": {},
   "source": [
    "# 돌려봤을때'LGBM',\"DecisionTree\",'CatBoost' 의 결과값이 좋았고 이를 이용해서 StackingCVClassifier로 파라미터 찾아주면서 가장 적절한 best모델을 top_meta_model이라고 저장합니다."
   ]
  },
  {
   "cell_type": "code",
   "execution_count": 51,
   "metadata": {},
   "outputs": [],
   "source": [
    "best_cls_experiment = [ 'LGBM',\"DecisionTree\",'CatBoost'] "
   ]
  },
  {
   "cell_type": "code",
   "execution_count": 52,
   "metadata": {},
   "outputs": [
    {
     "name": "stdout",
     "output_type": "stream",
     "text": [
      "The best models configuration: ['LGBM', 'DecisionTree', 'CatBoost']\n"
     ]
    }
   ],
   "source": [
    "print(f'The best models configuration: {best_cls_experiment}')\n",
    "\n",
    "classifier_exp = []\n",
    "for label in best_cls_experiment:\n",
    "        classifier = classifiers[label]\n",
    "        classifier_exp.append(classifier)"
   ]
  },
  {
   "cell_type": "code",
   "execution_count": 53,
   "metadata": {},
   "outputs": [
    {
     "data": {
      "text/plain": [
       "[LGBMClassifier(),\n",
       " DecisionTreeClassifier(),\n",
       " <catboost.core.CatBoostClassifier at 0x2182fb562b0>]"
      ]
     },
     "execution_count": 53,
     "metadata": {},
     "output_type": "execute_result"
    }
   ],
   "source": [
    "classifier_exp"
   ]
  },
  {
   "cell_type": "code",
   "execution_count": 54,
   "metadata": {},
   "outputs": [
    {
     "name": "stdout",
     "output_type": "stream",
     "text": [
      "Meta model (slc) - accuracy: 0.77754 \n"
     ]
    }
   ],
   "source": [
    "scl = StackingCVClassifier(classifiers= classifier_exp,\n",
    "                            meta_classifier = mlr, # use meta-classifier\n",
    "                            use_probas = PROBAS,   # use_probas = True/False\n",
    "                            random_state = 37)\n",
    "\n",
    "scores = cross_val_score(scl, X_train, y_train, cv = FOLDS, scoring='accuracy')\n",
    "models_scores_results.append(scores)\n",
    "models_names.append('scl')\n",
    "print(\"Meta model (slc) - accuracy: %0.5f \" % (scores.mean()))\n",
    "scl.fit(X_train, y_train)\n",
    "\n",
    "top_meta_model = scl\n",
    "base_acc = scores.mean()\n",
    "# Meta model (slc) - accuracy: 0.78938 "
   ]
  },
  {
   "cell_type": "code",
   "execution_count": 62,
   "metadata": {},
   "outputs": [],
   "source": [
    "def meta_best_params_search():\n",
    "\n",
    "    scl_params = {'meta_classifier__C': [0.001,0.01, 0.1, 1, 10, 14, 16]}\n",
    "\n",
    "    print(\">>>> Searching for best parameters started <<<<\")\n",
    "\n",
    "    grid = GridSearchCV(estimator=scl, \n",
    "                        param_grid= scl_params, \n",
    "                        cv=5,\n",
    "                        refit=True)\n",
    "    grid.fit(X_train, y_train)\n",
    "\n",
    "    cv_keys = ('mean_test_score', 'std_test_score', 'params')\n",
    "\n",
    "    for r, _ in enumerate(grid.cv_results_['mean_test_score']):\n",
    "        print(\"%0.3f +/- %0.2f %r\" % (grid.cv_results_[cv_keys[0]][r], grid.cv_results_[cv_keys[1]][r] / 2.0, grid.cv_results_[cv_keys[2]][r]))\n",
    "\n",
    "    print('Best parameters: %s' % grid.best_params_)\n",
    "    print('Accuracy: %.5f' % grid.best_score_)\n",
    "    return grid, grid.best_score_"
   ]
  },
  {
   "cell_type": "code",
   "execution_count": 63,
   "metadata": {},
   "outputs": [
    {
     "name": "stdout",
     "output_type": "stream",
     "text": [
      ">>>> Searching for best parameters started <<<<\n",
      "0.675 +/- 0.00 {'meta_classifier__C': 0.001}\n",
      "0.675 +/- 0.00 {'meta_classifier__C': 0.01}\n",
      "0.772 +/- 0.01 {'meta_classifier__C': 0.1}\n",
      "0.793 +/- 0.01 {'meta_classifier__C': 1}\n",
      "0.783 +/- 0.01 {'meta_classifier__C': 10}\n",
      "0.789 +/- 0.01 {'meta_classifier__C': 14}\n",
      "0.776 +/- 0.01 {'meta_classifier__C': 16}\n",
      "Best parameters: {'meta_classifier__C': 1}\n",
      "Accuracy: 0.79334\n"
     ]
    }
   ],
   "source": [
    "hyper_meta_model, hyper_acc = meta_best_params_search()"
   ]
  },
  {
   "cell_type": "code",
   "execution_count": 80,
   "id": "6a4c44db",
   "metadata": {},
   "outputs": [
    {
     "data": {
      "text/plain": [
       "{'meta_classifier__C': 1}"
      ]
     },
     "execution_count": 80,
     "metadata": {},
     "output_type": "execute_result"
    }
   ],
   "source": [
    "hyper_meta_model.best_params_"
   ]
  },
  {
   "cell_type": "code",
   "execution_count": 82,
   "id": "6b95ccef",
   "metadata": {},
   "outputs": [
    {
     "data": {
      "text/plain": [
       "2801"
      ]
     },
     "execution_count": 82,
     "metadata": {},
     "output_type": "execute_result"
    }
   ],
   "source": [
    "len(features)"
   ]
  },
  {
   "cell_type": "code",
   "execution_count": 84,
   "id": "7ef9277f",
   "metadata": {},
   "outputs": [
    {
     "data": {
      "text/plain": [
       "2877"
      ]
     },
     "execution_count": 84,
     "metadata": {},
     "output_type": "execute_result"
    }
   ],
   "source": [
    "len(train_x.columns)"
   ]
  },
  {
   "cell_type": "code",
   "execution_count": 75,
   "metadata": {},
   "outputs": [
    {
     "name": "stdout",
     "output_type": "stream",
     "text": [
      "Meta model (slc) - accuracy: 0.78348 \n"
     ]
    }
   ],
   "source": [
    "scl = StackingCVClassifier(classifiers= classifier_exp,\n",
    "                            meta_classifier = mlr, # use meta-classifier\n",
    "                            use_probas = PROBAS,   # use_probas = True/False\n",
    "                            random_state = 37)\n",
    "\n",
    "scores =cross_val_score(scl, X_train, y_train, cv = FOLDS, scoring='accuracy')\n",
    "models_scores_results.append(scores)\n",
    "models_names.append('scl')\n",
    "print(\"Meta model (slc) - accuracy: %0.5f \" % (scores.mean()))\n",
    "scl.fit(train_x[features], train_y)\n",
    "\n",
    "top_meta_model = scl\n",
    "base_acc = scores.mean()"
   ]
  },
  {
   "cell_type": "markdown",
   "metadata": {},
   "source": [
    "# 이제 predict를 해줍니다 "
   ]
  },
  {
   "cell_type": "code",
   "execution_count": 76,
   "metadata": {},
   "outputs": [],
   "source": [
    "#top_meta_model = hyper_meta_model\n",
    "classifiers[\"scl\"] = top_meta_model"
   ]
  },
  {
   "cell_type": "code",
   "execution_count": 77,
   "metadata": {},
   "outputs": [],
   "source": [
    "\n",
    "test_x = test_x[features]\n",
    "test_preds = classifiers['scl'].predict(test_x)[:,]"
   ]
  },
  {
   "cell_type": "code",
   "execution_count": 78,
   "metadata": {},
   "outputs": [
    {
     "data": {
      "text/plain": [
       "1    261\n",
       "0     40\n",
       "2      9\n",
       "Name: Y_Class, dtype: int64"
      ]
     },
     "execution_count": 78,
     "metadata": {},
     "output_type": "execute_result"
    }
   ],
   "source": [
    "submission = pd.read_csv('./sample_submission.csv')\n",
    "submission['Y_Class'] = test_preds\n",
    "submission['Y_Class'].value_counts()\n"
   ]
  },
  {
   "cell_type": "code",
   "execution_count": 68,
   "metadata": {},
   "outputs": [],
   "source": [
    "submission.to_csv('./extralgbmcatBoost_remove_test1.csv', index=False)\n"
   ]
  },
  {
   "cell_type": "code",
   "execution_count": null,
   "id": "7806f8e6",
   "metadata": {},
   "outputs": [
    {
     "data": {
      "text/plain": [
       "1    265\n",
       "0     38\n",
       "2      7\n",
       "Name: Y_Class, dtype: int64"
      ]
     },
     "execution_count": 44,
     "metadata": {},
     "output_type": "execute_result"
    }
   ],
   "source": [
    "# 1    265\n",
    "# 0     38\n",
    "# 2      7\n",
    "# Name: Y_Class, dtype: int64"
   ]
  }
 ],
 "metadata": {
  "kernelspec": {
   "display_name": "lg2",
   "language": "python",
   "name": "python3"
  },
  "language_info": {
   "codemirror_mode": {
    "name": "ipython",
    "version": 3
   },
   "file_extension": ".py",
   "mimetype": "text/x-python",
   "name": "python",
   "nbconvert_exporter": "python",
   "pygments_lexer": "ipython3",
   "version": "3.8.13"
  },
  "vscode": {
   "interpreter": {
    "hash": "7b4a77232de57f1a74ba645db038c4828a12e08da2dcf6af619cca0693c15199"
   }
  }
 },
 "nbformat": 4,
 "nbformat_minor": 5
}
