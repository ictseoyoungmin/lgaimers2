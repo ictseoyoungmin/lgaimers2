{
 "cells": [
  {
   "cell_type": "code",
   "execution_count": 1,
   "metadata": {},
   "outputs": [],
   "source": [
    "#-*- coding: utf-8 -*-\n",
    "import gc\n",
    "import random\n",
    "import os\n",
    "import pandas as pd\n",
    "import numpy as np\n",
    "# import matplotlib.pyplot as plt\n",
    "# import seaborn as sns\n",
    "\n",
    "# from xgboost import XGBClassifier\n",
    "from lightgbm import LGBMClassifier\n",
    "from catboost import CatBoostClassifier\n",
    "from sklearn.linear_model import LogisticRegression\n",
    "\n",
    "# from sklearn.preprocessing import StandardScaler\n",
    "# from sklearn.impute import SimpleImputer\n",
    "# from sklearn.model_selection import StratifiedKFold\n",
    "# from sklearn.metrics import roc_auc_score\n",
    "from sklearn.preprocessing import LabelEncoder\n",
    "from sklearn.model_selection import cross_val_score\n",
    "from sklearn.model_selection import train_test_split\n",
    "from sklearn.neighbors import KNeighborsClassifier \n",
    "# from sklearn.neighbors import KNeighborsRegressor\n",
    "from sklearn.ensemble import RandomForestClassifier\n",
    "from sklearn.naive_bayes import GaussianNB\n",
    "from sklearn.tree import DecisionTreeClassifier\n",
    "# import xgboost as xgb\n",
    "# import catboost\n",
    "# import lightgbm as lgb\n",
    "from sklearn.ensemble import ExtraTreesClassifier\n",
    "# from sklearn.neural_network import MLPClassifier\n",
    "# from sklearn.svm import SVC"
   ]
  },
  {
   "attachments": {},
   "cell_type": "markdown",
   "id": "9ebc90a5",
   "metadata": {},
   "source": [
    "### model hyperparameter\n",
    "* Decision Tree : default\n",
    "* LGBM : default\n",
    "* Catboost : task_type = 'GPU', verbose = None, logging_level = 'Silent'\n",
    "\n",
    "### 이 파일은 시각화 및 grid search, best stacking model search 코드 등은 제외하고 최종예측에 관여하는 코드만 포함합니다."
   ]
  },
  {
   "cell_type": "code",
   "execution_count": 2,
   "metadata": {},
   "outputs": [],
   "source": [
    "SEED = 37\n",
    "def seed_everything(seed):\n",
    "    random.seed(seed)\n",
    "    os.environ['PYTHONHASHSEED'] = str(seed)\n",
    "    np.random.seed(seed)\n",
    "seed_everything(SEED) "
   ]
  },
  {
   "attachments": {},
   "cell_type": "markdown",
   "id": "e24a83d2",
   "metadata": {},
   "source": [
    "## Data load"
   ]
  },
  {
   "cell_type": "code",
   "execution_count": 3,
   "metadata": {},
   "outputs": [],
   "source": [
    "train_df = pd.read_csv('./train.csv')\n",
    "test_df = pd.read_csv('./test.csv')"
   ]
  },
  {
   "cell_type": "code",
   "execution_count": 4,
   "metadata": {},
   "outputs": [],
   "source": [
    "train_x = train_df.drop(columns=['PRODUCT_ID', 'TIMESTAMP', 'Y_Class', 'Y_Quality'])\n",
    "train_y = train_df['Y_Class']\n",
    "\n",
    "test_x = test_df.drop(columns=['PRODUCT_ID', 'TIMESTAMP'])"
   ]
  },
  {
   "cell_type": "code",
   "execution_count": 5,
   "metadata": {},
   "outputs": [],
   "source": []
  },
  {
   "attachments": {},
   "cell_type": "markdown",
   "id": "a026c4cd",
   "metadata": {},
   "source": [
    "## Pre-processing"
   ]
  },
  {
   "cell_type": "code",
   "execution_count": 6,
   "metadata": {},
   "outputs": [],
   "source": [
    "train_x = train_x.fillna(0)\n",
    "test_x = test_x.fillna(0)"
   ]
  },
  {
   "cell_type": "code",
   "execution_count": 7,
   "metadata": {},
   "outputs": [
    {
     "name": "stdout",
     "output_type": "stream",
     "text": [
      "Done.\n"
     ]
    }
   ],
   "source": [
    "# qualitative to quantitative\n",
    "qual_col = ['LINE', 'PRODUCT_CODE']\n",
    "\n",
    "for i in qual_col:\n",
    "    le = LabelEncoder()\n",
    "    le = le.fit(train_x[i])\n",
    "    train_x[i] = le.transform(train_x[i])\n",
    "    \n",
    "    for label in np.unique(test_x[i]): \n",
    "        if label not in le.classes_: \n",
    "            le.classes_ = np.append(le.classes_, label)\n",
    "    test_x[i] = le.transform(test_x[i]) \n",
    "print('Done.')"
   ]
  },
  {
   "cell_type": "code",
   "execution_count": 8,
   "metadata": {},
   "outputs": [
    {
     "name": "stdout",
     "output_type": "stream",
     "text": [
      "     LINE  PRODUCT_CODE   X_1   X_2  X_3   X_4   X_5  X_6   X_7   X_8  ...  \\\n",
      "0       2             0   0.0   0.0  0.0   0.0   0.0  0.0   0.0   0.0  ...   \n",
      "1       3             0   0.0   0.0  0.0   0.0   0.0  0.0   0.0   0.0  ...   \n",
      "2       2             0   0.0   0.0  0.0   0.0   0.0  0.0   0.0   0.0  ...   \n",
      "3       3             0   0.0   0.0  0.0   0.0   0.0  0.0   0.0   0.0  ...   \n",
      "4       2             0   0.0   0.0  0.0   0.0   0.0  0.0   0.0   0.0  ...   \n",
      "..    ...           ...   ...   ...  ...   ...   ...  ...   ...   ...  ...   \n",
      "593     5             2   2.0  95.0  0.0  45.0  10.0  0.0  50.0  10.0  ...   \n",
      "594     2             0   0.0   0.0  0.0   0.0   0.0  0.0   0.0   0.0  ...   \n",
      "595     2             0   0.0   0.0  0.0   0.0   0.0  0.0   0.0   0.0  ...   \n",
      "596     4             1  40.0  94.0  0.0  45.0  11.0  0.0  45.0  10.0  ...   \n",
      "597     5             1  21.0  87.0  0.0  45.0  10.0  0.0  61.0  10.0  ...   \n",
      "\n",
      "     X_2866  X_2867  X_2868  X_2869  X_2870  X_2871  X_2872  X_2873  X_2874  \\\n",
      "0     39.34   40.89   32.56   34.09   77.77     0.0     0.0     0.0     0.0   \n",
      "1     38.89   42.82   43.92   35.34   72.55     0.0     0.0     0.0     0.0   \n",
      "2     39.19   36.65   42.47   36.53   78.35     0.0     0.0     0.0     0.0   \n",
      "3     37.74   39.17   52.17   30.58   71.78     0.0     0.0     0.0     0.0   \n",
      "4     38.70   41.89   46.93   33.09   76.97     0.0     0.0     0.0     0.0   \n",
      "..      ...     ...     ...     ...     ...     ...     ...     ...     ...   \n",
      "593    0.00    0.00    0.00    0.00    0.00     0.0     0.0     0.0     0.0   \n",
      "594   49.47   53.07   50.89   55.10   66.49     1.0     0.0     0.0     0.0   \n",
      "595    0.00    0.00    0.00    0.00    0.00     1.0     0.0     0.0     0.0   \n",
      "596    0.00    0.00    0.00    0.00    0.00     0.0     0.0     0.0     0.0   \n",
      "597    0.00    0.00    0.00    0.00    0.00     0.0     0.0     0.0     0.0   \n",
      "\n",
      "     X_2875  \n",
      "0       0.0  \n",
      "1       0.0  \n",
      "2       0.0  \n",
      "3       0.0  \n",
      "4       0.0  \n",
      "..      ...  \n",
      "593     0.0  \n",
      "594     0.0  \n",
      "595     0.0  \n",
      "596     0.0  \n",
      "597     0.0  \n",
      "\n",
      "[598 rows x 2877 columns]\n"
     ]
    }
   ],
   "source": [
    "print(train_x) "
   ]
  },
  {
   "cell_type": "code",
   "execution_count": 9,
   "metadata": {},
   "outputs": [
    {
     "name": "stdout",
     "output_type": "stream",
     "text": [
      "X_train:(508, 2877) y_train: (508,)\n",
      "X_test:(90, 2877) y_test: (90,)\n"
     ]
    }
   ],
   "source": [
    "# for permutation importance check \n",
    "X_train, X_test, y_train, y_test = train_test_split(train_x, train_y, test_size = 0.15, random_state = 37)\n",
    "print (f'X_train:{X_train.shape} y_train: {y_train.shape}')\n",
    "print (f'X_test:{X_test.shape} y_test: {y_test.shape}')"
   ]
  },
  {
   "cell_type": "code",
   "execution_count": 10,
   "metadata": {},
   "outputs": [],
   "source": [
    "lgb_params = {\n",
    "    'metric': 'cross_entropy',\n",
    "    'n_estimators': 10000,\n",
    "    'objective': 'softmax',\n",
    "    'learning_rate': 0.02,\n",
    "    'min_child_samples': 150,\n",
    "    'reg_alpha': 3e-5,\n",
    "    'reg_lambda': 9e-2,\n",
    "    'num_leaves': 20,\n",
    "    'max_depth': 16,\n",
    "    'colsample_bytree': 0.8,\n",
    "    'subsample': 0.8,\n",
    "    'subsample_freq': 2,\n",
    "    'max_bin': 240,\n",
    "    'device': 'gpu'\n",
    "}\n",
    "\n",
    "rf_params = {\n",
    "    'max_depth': 7,\n",
    "    'min_samples_leaf': 10,\n",
    "    'random_state': 37\n",
    "}"
   ]
  },
  {
   "cell_type": "code",
   "execution_count": 11,
   "metadata": {},
   "outputs": [
    {
     "data": {
      "text/plain": [
       "311    1\n",
       "371    1\n",
       "18     1\n",
       "183    1\n",
       "215    2\n",
       "      ..\n",
       "451    1\n",
       "22     0\n",
       "437    1\n",
       "251    1\n",
       "363    0\n",
       "Name: Y_Class, Length: 508, dtype: int64"
      ]
     },
     "execution_count": 11,
     "metadata": {},
     "output_type": "execute_result"
    }
   ],
   "source": [
    "y_train"
   ]
  },
  {
   "cell_type": "code",
   "execution_count": 12,
   "metadata": {},
   "outputs": [],
   "source": [
    "cl1 = KNeighborsClassifier(n_neighbors = 9)\n",
    "cl2 = RandomForestClassifier(**rf_params)\n",
    "cl3 = GaussianNB()\n",
    "cl4 = DecisionTreeClassifier() # selected\n",
    "cl5 = CatBoostClassifier(task_type = 'GPU', verbose = None, logging_level = 'Silent') # selected\n",
    "cl6 = LGBMClassifier()  # selected\n",
    "cl7 = ExtraTreesClassifier(bootstrap=False, criterion='entropy', max_features=0.55, min_samples_leaf=8, min_samples_split=4, n_estimators=100) # Optimized using TPOT\n",
    "# cl8 = XGBClassifier(eval_metric='mlogloss', objective ='multi:softmax',use_label_encoder=False)"
   ]
  },
  {
   "cell_type": "code",
   "execution_count": 13,
   "metadata": {},
   "outputs": [],
   "source": [
    "classifiers = {\n",
    "    \"RandomForest\": cl2,\n",
    "    \"DecisionTree\": cl4,\n",
    "    \"CatBoost\": cl5,\n",
    "    \"LGBM\": cl6,\n",
    "    \"ExtraTrees\": cl7,\n",
    "    # \"XGboost\":cl8\n",
    "}"
   ]
  },
  {
   "cell_type": "code",
   "execution_count": 14,
   "metadata": {},
   "outputs": [],
   "source": [
    "mlr = LogisticRegression() # stacking meta model"
   ]
  },
  {
   "cell_type": "code",
   "execution_count": 15,
   "metadata": {},
   "outputs": [],
   "source": [
    "models_scores_results, models_names = list(), list() "
   ]
  },
  {
   "cell_type": "code",
   "execution_count": 16,
   "metadata": {},
   "outputs": [],
   "source": [
    "RANDOM_SEED = 37\n",
    "PROBAS = True\n",
    "FOLDS = 5\n",
    "N_ESTIMATORS = 1000\n",
    "\n",
    "TARGET = 'Y_Class'"
   ]
  },
  {
   "cell_type": "code",
   "execution_count": 17,
   "metadata": {},
   "outputs": [],
   "source": [
    "taken_classifiers = [\"RandomForest\", \"DecisionTree\", \"CatBoost\", \"LGBM\", \"ExtraTrees\"]"
   ]
  },
  {
   "cell_type": "code",
   "execution_count": 18,
   "metadata": {},
   "outputs": [],
   "source": [
    "import itertools\n",
    "from mlxtend.classifier import StackingCVClassifier"
   ]
  },
  {
   "cell_type": "code",
   "execution_count": 19,
   "metadata": {},
   "outputs": [],
   "source": [
    "import eli5\n",
    "from eli5.sklearn import PermutationImportance"
   ]
  },
  {
   "cell_type": "code",
   "execution_count": 20,
   "metadata": {},
   "outputs": [],
   "source": [
    "model=CatBoostClassifier(silent=True, random_state=37).fit(X_train, y_train)"
   ]
  },
  {
   "cell_type": "code",
   "execution_count": 21,
   "metadata": {},
   "outputs": [],
   "source": [
    "perm = PermutationImportance(model, random_state=37).fit(X_test, y_test)\n"
   ]
  },
  {
   "cell_type": "code",
   "execution_count": 22,
   "metadata": {},
   "outputs": [],
   "source": [
    "# feature selection\n",
    "minimum_importance = -0.001\n",
    "mask = perm.feature_importances_ > minimum_importance\n",
    "features = X_train.columns[mask]\n",
    "X_train = X_train[features]\n",
    "X_test = X_test[features]"
   ]
  },
  {
   "cell_type": "code",
   "execution_count": 23,
   "metadata": {},
   "outputs": [],
   "source": [
    "best_cls_experiment = [ 'LGBM',\"DecisionTree\",'CatBoost'] "
   ]
  },
  {
   "cell_type": "code",
   "execution_count": 24,
   "metadata": {},
   "outputs": [
    {
     "name": "stdout",
     "output_type": "stream",
     "text": [
      "The best models configuration: ['LGBM', 'DecisionTree', 'CatBoost']\n"
     ]
    }
   ],
   "source": [
    "print(f'The best models configuration: {best_cls_experiment}')\n",
    "\n",
    "classifier_exp = []\n",
    "for label in best_cls_experiment:\n",
    "        classifier = classifiers[label]\n",
    "        classifier_exp.append(classifier)"
   ]
  },
  {
   "cell_type": "code",
   "execution_count": 25,
   "metadata": {},
   "outputs": [
    {
     "data": {
      "text/plain": [
       "[LGBMClassifier(),\n",
       " DecisionTreeClassifier(),\n",
       " <catboost.core.CatBoostClassifier at 0x244dddc5550>]"
      ]
     },
     "execution_count": 25,
     "metadata": {},
     "output_type": "execute_result"
    }
   ],
   "source": [
    "classifier_exp"
   ]
  },
  {
   "attachments": {},
   "cell_type": "markdown",
   "id": "3eb527cb",
   "metadata": {},
   "source": [
    "## Train"
   ]
  },
  {
   "cell_type": "code",
   "execution_count": 26,
   "metadata": {},
   "outputs": [
    {
     "name": "stdout",
     "output_type": "stream",
     "text": [
      "Meta model (slc) - accuracy: 0.78348 \n"
     ]
    }
   ],
   "source": [
    "scl = StackingCVClassifier(classifiers= classifier_exp,\n",
    "                            meta_classifier = mlr, # use meta-classifier\n",
    "                            use_probas = PROBAS,   # use_probas = True/False\n",
    "                            random_state = 37)\n",
    "\n",
    "scores =cross_val_score(scl, X_train, y_train, cv = FOLDS, scoring='accuracy')\n",
    "models_scores_results.append(scores)\n",
    "models_names.append('scl')\n",
    "print(\"Meta model (slc) - accuracy: %0.5f \" % (scores.mean()))\n",
    "scl.fit(X_train, y_train)\n",
    "\n",
    "top_meta_model = scl\n",
    "base_acc = scores.mean()"
   ]
  },
  {
   "attachments": {},
   "cell_type": "markdown",
   "metadata": {},
   "source": [
    "### meta model 결과값이 0.77566일경우 Y_class의 결과값이 265 38 7이 나옵니다"
   ]
  },
  {
   "cell_type": "code",
   "execution_count": 27,
   "metadata": {},
   "outputs": [],
   "source": [
    "#top_meta_model = hyper_meta_model\n",
    "classifiers[\"scl\"] = top_meta_model"
   ]
  },
  {
   "attachments": {},
   "cell_type": "markdown",
   "id": "a29cf2b7",
   "metadata": {},
   "source": [
    "## Predict"
   ]
  },
  {
   "cell_type": "code",
   "execution_count": 28,
   "metadata": {},
   "outputs": [],
   "source": [
    "\n",
    "test_x = test_x[features]\n",
    " "
   ]
  },
  {
   "cell_type": "code",
   "execution_count": 29,
   "metadata": {},
   "outputs": [],
   "source": [
    "test_preds = classifiers['scl'].predict(test_x)[:,]"
   ]
  },
  {
   "cell_type": "code",
   "execution_count": 30,
   "metadata": {},
   "outputs": [],
   "source": [
    "submission = pd.read_csv('./sample_submission.csv')"
   ]
  },
  {
   "cell_type": "code",
   "execution_count": 31,
   "metadata": {},
   "outputs": [],
   "source": [
    "submission['Y_Class'] = test_preds"
   ]
  },
  {
   "cell_type": "code",
   "execution_count": 32,
   "metadata": {},
   "outputs": [],
   "source": [
    "submission.to_csv('./decisionlgbmcatBoost_remove.csv', index=False)"
   ]
  },
  {
   "cell_type": "code",
   "execution_count": 33,
   "metadata": {},
   "outputs": [
    {
     "data": {
      "text/plain": [
       "1    264\n",
       "0     40\n",
       "2      6\n",
       "Name: Y_Class, dtype: int64"
      ]
     },
     "execution_count": 33,
     "metadata": {},
     "output_type": "execute_result"
    }
   ],
   "source": [
    "submission['Y_Class'].value_counts()"
   ]
  }
 ],
 "metadata": {
  "kernelspec": {
   "display_name": "lg2",
   "language": "python",
   "name": "python3"
  },
  "language_info": {
   "codemirror_mode": {
    "name": "ipython",
    "version": 3
   },
   "file_extension": ".py",
   "mimetype": "text/x-python",
   "name": "python",
   "nbconvert_exporter": "python",
   "pygments_lexer": "ipython3",
   "version": "3.8.13"
  },
  "vscode": {
   "interpreter": {
    "hash": "7b4a77232de57f1a74ba645db038c4828a12e08da2dcf6af619cca0693c15199"
   }
  }
 },
 "nbformat": 4,
 "nbformat_minor": 5
}
